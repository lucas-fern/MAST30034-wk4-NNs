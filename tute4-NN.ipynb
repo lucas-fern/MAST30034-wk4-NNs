{
 "cells": [
  {
   "cell_type": "markdown",
   "metadata": {},
   "source": [
    "# Intro to Neural Networks with Keras"
   ]
  },
  {
   "cell_type": "code",
   "execution_count": 1,
   "metadata": {},
   "outputs": [],
   "source": [
    "import numpy as np\n",
    "import pandas as pd\n",
    "\n",
    "from sklearn.model_selection import train_test_split"
   ]
  },
  {
   "cell_type": "markdown",
   "metadata": {},
   "source": [
    "Same as last week, we will try to predict `total_amount` using `fare_amount, tip_amount, toll_amount, trip_distance, VendorID`"
   ]
  },
  {
   "cell_type": "code",
   "execution_count": 2,
   "metadata": {},
   "outputs": [
    {
     "data": {
      "text/html": [
       "<div>\n",
       "<style scoped>\n",
       "    .dataframe tbody tr th:only-of-type {\n",
       "        vertical-align: middle;\n",
       "    }\n",
       "\n",
       "    .dataframe tbody tr th {\n",
       "        vertical-align: top;\n",
       "    }\n",
       "\n",
       "    .dataframe thead th {\n",
       "        text-align: right;\n",
       "    }\n",
       "</style>\n",
       "<table border=\"1\" class=\"dataframe\">\n",
       "  <thead>\n",
       "    <tr style=\"text-align: right;\">\n",
       "      <th></th>\n",
       "      <th>total_amount</th>\n",
       "      <th>fare_amount</th>\n",
       "      <th>tip_amount</th>\n",
       "      <th>tolls_amount</th>\n",
       "      <th>trip_distance</th>\n",
       "      <th>VendorID</th>\n",
       "    </tr>\n",
       "  </thead>\n",
       "  <tbody>\n",
       "    <tr>\n",
       "      <th>0</th>\n",
       "      <td>30.30</td>\n",
       "      <td>23.50</td>\n",
       "      <td>3.00</td>\n",
       "      <td>0.00</td>\n",
       "      <td>4.30</td>\n",
       "      <td>2</td>\n",
       "    </tr>\n",
       "    <tr>\n",
       "      <th>1</th>\n",
       "      <td>9.79</td>\n",
       "      <td>4.50</td>\n",
       "      <td>1.49</td>\n",
       "      <td>0.00</td>\n",
       "      <td>0.50</td>\n",
       "      <td>2</td>\n",
       "    </tr>\n",
       "    <tr>\n",
       "      <th>2</th>\n",
       "      <td>25.80</td>\n",
       "      <td>22.00</td>\n",
       "      <td>0.00</td>\n",
       "      <td>0.00</td>\n",
       "      <td>7.37</td>\n",
       "      <td>2</td>\n",
       "    </tr>\n",
       "    <tr>\n",
       "      <th>3</th>\n",
       "      <td>16.56</td>\n",
       "      <td>10.00</td>\n",
       "      <td>2.76</td>\n",
       "      <td>0.00</td>\n",
       "      <td>1.85</td>\n",
       "      <td>2</td>\n",
       "    </tr>\n",
       "    <tr>\n",
       "      <th>4</th>\n",
       "      <td>29.76</td>\n",
       "      <td>21.00</td>\n",
       "      <td>4.96</td>\n",
       "      <td>0.00</td>\n",
       "      <td>5.88</td>\n",
       "      <td>2</td>\n",
       "    </tr>\n",
       "    <tr>\n",
       "      <th>...</th>\n",
       "      <td>...</td>\n",
       "      <td>...</td>\n",
       "      <td>...</td>\n",
       "      <td>...</td>\n",
       "      <td>...</td>\n",
       "      <td>...</td>\n",
       "    </tr>\n",
       "    <tr>\n",
       "      <th>123340</th>\n",
       "      <td>13.18</td>\n",
       "      <td>8.97</td>\n",
       "      <td>0.91</td>\n",
       "      <td>0.00</td>\n",
       "      <td>1.59</td>\n",
       "      <td>2</td>\n",
       "    </tr>\n",
       "    <tr>\n",
       "      <th>123341</th>\n",
       "      <td>20.08</td>\n",
       "      <td>14.78</td>\n",
       "      <td>2.00</td>\n",
       "      <td>0.00</td>\n",
       "      <td>3.74</td>\n",
       "      <td>2</td>\n",
       "    </tr>\n",
       "    <tr>\n",
       "      <th>123342</th>\n",
       "      <td>48.16</td>\n",
       "      <td>29.76</td>\n",
       "      <td>8.55</td>\n",
       "      <td>6.55</td>\n",
       "      <td>7.97</td>\n",
       "      <td>2</td>\n",
       "    </tr>\n",
       "    <tr>\n",
       "      <th>123343</th>\n",
       "      <td>16.76</td>\n",
       "      <td>10.51</td>\n",
       "      <td>2.95</td>\n",
       "      <td>0.00</td>\n",
       "      <td>2.28</td>\n",
       "      <td>2</td>\n",
       "    </tr>\n",
       "    <tr>\n",
       "      <th>123344</th>\n",
       "      <td>19.10</td>\n",
       "      <td>13.94</td>\n",
       "      <td>1.86</td>\n",
       "      <td>0.00</td>\n",
       "      <td>2.61</td>\n",
       "      <td>2</td>\n",
       "    </tr>\n",
       "  </tbody>\n",
       "</table>\n",
       "<p>123345 rows × 6 columns</p>\n",
       "</div>"
      ],
      "text/plain": [
       "        total_amount  fare_amount  tip_amount  tolls_amount  trip_distance  \\\n",
       "0              30.30        23.50        3.00          0.00           4.30   \n",
       "1               9.79         4.50        1.49          0.00           0.50   \n",
       "2              25.80        22.00        0.00          0.00           7.37   \n",
       "3              16.56        10.00        2.76          0.00           1.85   \n",
       "4              29.76        21.00        4.96          0.00           5.88   \n",
       "...              ...          ...         ...           ...            ...   \n",
       "123340         13.18         8.97        0.91          0.00           1.59   \n",
       "123341         20.08        14.78        2.00          0.00           3.74   \n",
       "123342         48.16        29.76        8.55          6.55           7.97   \n",
       "123343         16.76        10.51        2.95          0.00           2.28   \n",
       "123344         19.10        13.94        1.86          0.00           2.61   \n",
       "\n",
       "        VendorID  \n",
       "0              2  \n",
       "1              2  \n",
       "2              2  \n",
       "3              2  \n",
       "4              2  \n",
       "...          ...  \n",
       "123340         2  \n",
       "123341         2  \n",
       "123342         2  \n",
       "123343         2  \n",
       "123344         2  \n",
       "\n",
       "[123345 rows x 6 columns]"
      ]
     },
     "execution_count": 2,
     "metadata": {},
     "output_type": "execute_result"
    }
   ],
   "source": [
    "COLS = ['total_amount', 'fare_amount', 'tip_amount', 'tolls_amount', 'trip_distance', 'VendorID']\n",
    "\n",
    "df = pd.read_parquet(\"../../data/tute_data/sample_data.parquet\")\n",
    "df = df[COLS]\n",
    "df"
   ]
  },
  {
   "cell_type": "markdown",
   "metadata": {},
   "source": [
    "One-hot encode the categorical `VendorID`, could choose to do something about the instances with ID's 5 and 6."
   ]
  },
  {
   "cell_type": "code",
   "execution_count": 3,
   "metadata": {},
   "outputs": [
    {
     "data": {
      "text/html": [
       "<div>\n",
       "<style scoped>\n",
       "    .dataframe tbody tr th:only-of-type {\n",
       "        vertical-align: middle;\n",
       "    }\n",
       "\n",
       "    .dataframe tbody tr th {\n",
       "        vertical-align: top;\n",
       "    }\n",
       "\n",
       "    .dataframe thead th {\n",
       "        text-align: right;\n",
       "    }\n",
       "</style>\n",
       "<table border=\"1\" class=\"dataframe\">\n",
       "  <thead>\n",
       "    <tr style=\"text-align: right;\">\n",
       "      <th></th>\n",
       "      <th>total_amount</th>\n",
       "      <th>fare_amount</th>\n",
       "      <th>tip_amount</th>\n",
       "      <th>tolls_amount</th>\n",
       "      <th>trip_distance</th>\n",
       "      <th>VendorID_1</th>\n",
       "      <th>VendorID_2</th>\n",
       "      <th>VendorID_5</th>\n",
       "      <th>VendorID_6</th>\n",
       "    </tr>\n",
       "  </thead>\n",
       "  <tbody>\n",
       "    <tr>\n",
       "      <th>0</th>\n",
       "      <td>30.30</td>\n",
       "      <td>23.50</td>\n",
       "      <td>3.00</td>\n",
       "      <td>0.00</td>\n",
       "      <td>4.30</td>\n",
       "      <td>0</td>\n",
       "      <td>1</td>\n",
       "      <td>0</td>\n",
       "      <td>0</td>\n",
       "    </tr>\n",
       "    <tr>\n",
       "      <th>1</th>\n",
       "      <td>9.79</td>\n",
       "      <td>4.50</td>\n",
       "      <td>1.49</td>\n",
       "      <td>0.00</td>\n",
       "      <td>0.50</td>\n",
       "      <td>0</td>\n",
       "      <td>1</td>\n",
       "      <td>0</td>\n",
       "      <td>0</td>\n",
       "    </tr>\n",
       "    <tr>\n",
       "      <th>2</th>\n",
       "      <td>25.80</td>\n",
       "      <td>22.00</td>\n",
       "      <td>0.00</td>\n",
       "      <td>0.00</td>\n",
       "      <td>7.37</td>\n",
       "      <td>0</td>\n",
       "      <td>1</td>\n",
       "      <td>0</td>\n",
       "      <td>0</td>\n",
       "    </tr>\n",
       "    <tr>\n",
       "      <th>3</th>\n",
       "      <td>16.56</td>\n",
       "      <td>10.00</td>\n",
       "      <td>2.76</td>\n",
       "      <td>0.00</td>\n",
       "      <td>1.85</td>\n",
       "      <td>0</td>\n",
       "      <td>1</td>\n",
       "      <td>0</td>\n",
       "      <td>0</td>\n",
       "    </tr>\n",
       "    <tr>\n",
       "      <th>4</th>\n",
       "      <td>29.76</td>\n",
       "      <td>21.00</td>\n",
       "      <td>4.96</td>\n",
       "      <td>0.00</td>\n",
       "      <td>5.88</td>\n",
       "      <td>0</td>\n",
       "      <td>1</td>\n",
       "      <td>0</td>\n",
       "      <td>0</td>\n",
       "    </tr>\n",
       "    <tr>\n",
       "      <th>...</th>\n",
       "      <td>...</td>\n",
       "      <td>...</td>\n",
       "      <td>...</td>\n",
       "      <td>...</td>\n",
       "      <td>...</td>\n",
       "      <td>...</td>\n",
       "      <td>...</td>\n",
       "      <td>...</td>\n",
       "      <td>...</td>\n",
       "    </tr>\n",
       "    <tr>\n",
       "      <th>123340</th>\n",
       "      <td>13.18</td>\n",
       "      <td>8.97</td>\n",
       "      <td>0.91</td>\n",
       "      <td>0.00</td>\n",
       "      <td>1.59</td>\n",
       "      <td>0</td>\n",
       "      <td>1</td>\n",
       "      <td>0</td>\n",
       "      <td>0</td>\n",
       "    </tr>\n",
       "    <tr>\n",
       "      <th>123341</th>\n",
       "      <td>20.08</td>\n",
       "      <td>14.78</td>\n",
       "      <td>2.00</td>\n",
       "      <td>0.00</td>\n",
       "      <td>3.74</td>\n",
       "      <td>0</td>\n",
       "      <td>1</td>\n",
       "      <td>0</td>\n",
       "      <td>0</td>\n",
       "    </tr>\n",
       "    <tr>\n",
       "      <th>123342</th>\n",
       "      <td>48.16</td>\n",
       "      <td>29.76</td>\n",
       "      <td>8.55</td>\n",
       "      <td>6.55</td>\n",
       "      <td>7.97</td>\n",
       "      <td>0</td>\n",
       "      <td>1</td>\n",
       "      <td>0</td>\n",
       "      <td>0</td>\n",
       "    </tr>\n",
       "    <tr>\n",
       "      <th>123343</th>\n",
       "      <td>16.76</td>\n",
       "      <td>10.51</td>\n",
       "      <td>2.95</td>\n",
       "      <td>0.00</td>\n",
       "      <td>2.28</td>\n",
       "      <td>0</td>\n",
       "      <td>1</td>\n",
       "      <td>0</td>\n",
       "      <td>0</td>\n",
       "    </tr>\n",
       "    <tr>\n",
       "      <th>123344</th>\n",
       "      <td>19.10</td>\n",
       "      <td>13.94</td>\n",
       "      <td>1.86</td>\n",
       "      <td>0.00</td>\n",
       "      <td>2.61</td>\n",
       "      <td>0</td>\n",
       "      <td>1</td>\n",
       "      <td>0</td>\n",
       "      <td>0</td>\n",
       "    </tr>\n",
       "  </tbody>\n",
       "</table>\n",
       "<p>123345 rows × 9 columns</p>\n",
       "</div>"
      ],
      "text/plain": [
       "        total_amount  fare_amount  tip_amount  tolls_amount  trip_distance  \\\n",
       "0              30.30        23.50        3.00          0.00           4.30   \n",
       "1               9.79         4.50        1.49          0.00           0.50   \n",
       "2              25.80        22.00        0.00          0.00           7.37   \n",
       "3              16.56        10.00        2.76          0.00           1.85   \n",
       "4              29.76        21.00        4.96          0.00           5.88   \n",
       "...              ...          ...         ...           ...            ...   \n",
       "123340         13.18         8.97        0.91          0.00           1.59   \n",
       "123341         20.08        14.78        2.00          0.00           3.74   \n",
       "123342         48.16        29.76        8.55          6.55           7.97   \n",
       "123343         16.76        10.51        2.95          0.00           2.28   \n",
       "123344         19.10        13.94        1.86          0.00           2.61   \n",
       "\n",
       "        VendorID_1  VendorID_2  VendorID_5  VendorID_6  \n",
       "0                0           1           0           0  \n",
       "1                0           1           0           0  \n",
       "2                0           1           0           0  \n",
       "3                0           1           0           0  \n",
       "4                0           1           0           0  \n",
       "...            ...         ...         ...         ...  \n",
       "123340           0           1           0           0  \n",
       "123341           0           1           0           0  \n",
       "123342           0           1           0           0  \n",
       "123343           0           1           0           0  \n",
       "123344           0           1           0           0  \n",
       "\n",
       "[123345 rows x 9 columns]"
      ]
     },
     "execution_count": 3,
     "metadata": {},
     "output_type": "execute_result"
    }
   ],
   "source": [
    "df = pd.get_dummies(df, columns=['VendorID'])\n",
    "df"
   ]
  },
  {
   "cell_type": "markdown",
   "metadata": {},
   "source": [
    "Prepare a training, validation, and test dataset:"
   ]
  },
  {
   "cell_type": "code",
   "execution_count": 4,
   "metadata": {},
   "outputs": [
    {
     "name": "stdout",
     "output_type": "stream",
     "text": [
      "98676 training instances, 24669 test instances\n"
     ]
    }
   ],
   "source": [
    "TARGET_COLS = ['total_amount']\n",
    "\n",
    "train, test = train_test_split(df, train_size=0.8, random_state=0)\n",
    "\n",
    "X_train, y_train = train.drop(TARGET_COLS, axis=1), train[TARGET_COLS]\n",
    "X_test, y_test = test.drop(TARGET_COLS, axis=1), test[TARGET_COLS]\n",
    "\n",
    "print(f'{len(X_train)} training instances, {len(X_test)} test instances')"
   ]
  },
  {
   "cell_type": "markdown",
   "metadata": {},
   "source": [
    "### Prepare NN\n",
    "We will use `keras`, which is built on top of `TensorFlow` and provides a very beginner-friendly interface for building NNs."
   ]
  },
  {
   "cell_type": "code",
   "execution_count": 6,
   "metadata": {},
   "outputs": [],
   "source": [
    "from tensorflow import keras\n",
    "from tensorflow.keras.layers import Dense, Normalization"
   ]
  },
  {
   "cell_type": "markdown",
   "metadata": {},
   "source": [
    "It is recommended to normalise input data to NNs in most cases so that features with a larger magnitude don't dominate when the weights are initialised to similar values.\n",
    "\n",
    "We can use the `Normalization` layer from `keras` to do this automatically."
   ]
  },
  {
   "cell_type": "code",
   "execution_count": 8,
   "metadata": {},
   "outputs": [],
   "source": [
    "# Setup a normalization layer and adapt it to the training set so that it knows\n",
    "# what mean and sd to use when normalising\n",
    "norm_layer = Normalization()\n",
    "norm_layer.adapt(X_train)"
   ]
  },
  {
   "cell_type": "markdown",
   "metadata": {},
   "source": [
    "Now we can assemble a simple sequential NN using our normalisation layer.\n",
    "\n",
    "There are a lot of design decisions to experiment with here, including:\n",
    "- the amount of (hidden) layers,\n",
    "- the amount of nodes in each layer,\n",
    "- the activation functions in each layer,\n",
    "- the type of layers we use,\n",
    "- ...\n",
    "___\n",
    "\n",
    "1. We know we want to normalise the data first, so put that at the start.\n",
    "2. We know we are trying to predict a single target variable `total_amount`, so our final layer will have a single node.\n",
    "3. The target, `total_amount` should be non-negative, so it makes sense to use `relu` activation for this ($f(x) = max(0, x)$)\n",
    "    - Other options are `linear`, `softmax`, `tanh`, `sigmoid`, and more\n",
    "        - `softmax`, for example, is useful when predicting a target probability $p \\in (0, 1)$\n",
    "4. This model is quite simple (modelling total amount from features which sum to the total) so we can try just a single hidden layer.\n",
    "    - Can also see what happens if we don't inlcude a hidden layer (model will only be able to represent linear functions)\n",
    "5. Generally we'll pick an amount of nodes in the hidden layer which is between the size of the input and output layers. There are 8 features and 1 output, so lets start with 5 and experiment.\n",
    "\n",
    "Take a look at https://stats.stackexchange.com/a/180052 for some rules of thumb about setting our layer and node counts."
   ]
  },
  {
   "cell_type": "code",
   "execution_count": 16,
   "metadata": {},
   "outputs": [],
   "source": [
    "model = keras.Sequential(\n",
    "    [   \n",
    "        norm_layer,                   # our normalisation layer recieves the input\n",
    "        Dense(5, activation='relu'),  # the hidden layer gets the normalised result\n",
    "        # Dense(3, activation='relu'),  # (in case you want to try an extra hidden layer)\n",
    "        Dense(1, activation='relu')   # and the output layer has a single node which will estimate total_amount\n",
    "    ]\n",
    ")"
   ]
  },
  {
   "cell_type": "markdown",
   "metadata": {},
   "source": [
    "Now we need to decide what optimiser to use with our model, and what loss function we want to try and minimise. `keras` gives us lots of options which we can look at here:\n",
    "- https://www.tensorflow.org/api_docs/python/tf/keras/optimizers\n",
    "- https://www.tensorflow.org/api_docs/python/tf/keras/losses"
   ]
  },
  {
   "cell_type": "code",
   "execution_count": 17,
   "metadata": {},
   "outputs": [],
   "source": [
    "model.compile(\n",
    "    optimizer='adam',  # Adam optimises using gradient descent, is generally fast and a good choice in many cases\n",
    "    loss='MSE'  # Mean Squared Error makes sense for this problem, \n",
    "                # though we could use Mean Absolute Error, or many other choices.\n",
    "                # Classification outputs would use a different loss (eg. BinaryCrossentropy)\n",
    ")"
   ]
  },
  {
   "cell_type": "markdown",
   "metadata": {},
   "source": [
    "Now we can fit the model. We process the instances in batches of 32 and use a validation split equal to the size of our test set here, but these are hyperparameters.\n",
    "\n",
    "The optimal number of epochs can be determined experimentally (often to minimise validation loss) or we could use `tf.keras.callbacks.EarlyStopping` to do this automatically.\n",
    "\n",
    "(https://machinelearningmastery.com/difference-between-a-batch-and-an-epoch/ is a good article explaining batches and epochs!)"
   ]
  },
  {
   "cell_type": "code",
   "execution_count": 18,
   "metadata": {},
   "outputs": [
    {
     "name": "stdout",
     "output_type": "stream",
     "text": [
      "Epoch 1/10\n",
      "4626/4626 [==============================] - 7s 2ms/step - loss: 114.7188 - val_loss: 10.9040\n",
      "Epoch 2/10\n",
      "4626/4626 [==============================] - 7s 1ms/step - loss: 6.5374 - val_loss: 4.7542\n",
      "Epoch 3/10\n",
      "4626/4626 [==============================] - 7s 2ms/step - loss: 5.1566 - val_loss: 4.4125\n",
      "Epoch 4/10\n",
      "4626/4626 [==============================] - 7s 2ms/step - loss: 3.5799 - val_loss: 4.2805\n",
      "Epoch 5/10\n",
      "4626/4626 [==============================] - 7s 2ms/step - loss: 3.0738 - val_loss: 4.2350\n",
      "Epoch 6/10\n",
      "4626/4626 [==============================] - 7s 2ms/step - loss: 2.8875 - val_loss: 4.2133\n",
      "Epoch 7/10\n",
      "4626/4626 [==============================] - 7s 1ms/step - loss: 2.8001 - val_loss: 4.2246\n",
      "Epoch 8/10\n",
      "4626/4626 [==============================] - 7s 1ms/step - loss: 2.7603 - val_loss: 4.2028\n",
      "Epoch 9/10\n",
      "4626/4626 [==============================] - 7s 1ms/step - loss: 2.7583 - val_loss: 4.1827\n",
      "Epoch 10/10\n",
      "4626/4626 [==============================] - 6s 1ms/step - loss: 2.7143 - val_loss: 4.0965\n"
     ]
    }
   ],
   "source": [
    "history = model.fit(\n",
    "    x=X_train,\n",
    "    y=y_train,\n",
    "    batch_size=16,\n",
    "    validation_split=0.25,\n",
    "    epochs=10\n",
    ")"
   ]
  },
  {
   "cell_type": "markdown",
   "metadata": {},
   "source": [
    "Lets look at some predictions:"
   ]
  },
  {
   "cell_type": "code",
   "execution_count": 19,
   "metadata": {},
   "outputs": [
    {
     "name": "stdout",
     "output_type": "stream",
     "text": [
      "1/1 [==============================] - 0s 48ms/step\n"
     ]
    },
    {
     "data": {
      "text/html": [
       "<div>\n",
       "<style scoped>\n",
       "    .dataframe tbody tr th:only-of-type {\n",
       "        vertical-align: middle;\n",
       "    }\n",
       "\n",
       "    .dataframe tbody tr th {\n",
       "        vertical-align: top;\n",
       "    }\n",
       "\n",
       "    .dataframe thead th {\n",
       "        text-align: right;\n",
       "    }\n",
       "</style>\n",
       "<table border=\"1\" class=\"dataframe\">\n",
       "  <thead>\n",
       "    <tr style=\"text-align: right;\">\n",
       "      <th></th>\n",
       "      <th>total_amount</th>\n",
       "      <th>prediction</th>\n",
       "    </tr>\n",
       "  </thead>\n",
       "  <tbody>\n",
       "    <tr>\n",
       "      <th>65969</th>\n",
       "      <td>18.95</td>\n",
       "      <td>18.212635</td>\n",
       "    </tr>\n",
       "    <tr>\n",
       "      <th>18804</th>\n",
       "      <td>12.80</td>\n",
       "      <td>13.362486</td>\n",
       "    </tr>\n",
       "    <tr>\n",
       "      <th>31167</th>\n",
       "      <td>14.80</td>\n",
       "      <td>14.997655</td>\n",
       "    </tr>\n",
       "    <tr>\n",
       "      <th>85799</th>\n",
       "      <td>14.30</td>\n",
       "      <td>14.520094</td>\n",
       "    </tr>\n",
       "    <tr>\n",
       "      <th>110326</th>\n",
       "      <td>10.80</td>\n",
       "      <td>10.398303</td>\n",
       "    </tr>\n",
       "  </tbody>\n",
       "</table>\n",
       "</div>"
      ],
      "text/plain": [
       "        total_amount  prediction\n",
       "65969          18.95   18.212635\n",
       "18804          12.80   13.362486\n",
       "31167          14.80   14.997655\n",
       "85799          14.30   14.520094\n",
       "110326         10.80   10.398303"
      ]
     },
     "execution_count": 19,
     "metadata": {},
     "output_type": "execute_result"
    }
   ],
   "source": [
    "comparison = y_test.iloc[:5].copy()\n",
    "comparison.loc[:, 'prediction'] = model.predict(X_test.head())\n",
    "comparison"
   ]
  },
  {
   "cell_type": "markdown",
   "metadata": {},
   "source": [
    "And evaluate the performance of the model on the test dataset. Here is our Mean Squared Error (or other loss function)"
   ]
  },
  {
   "cell_type": "code",
   "execution_count": 20,
   "metadata": {},
   "outputs": [
    {
     "name": "stdout",
     "output_type": "stream",
     "text": [
      "1542/1542 [==============================] - 1s 896us/step - loss: 3.0732\n"
     ]
    },
    {
     "data": {
      "text/plain": [
       "3.073211193084717"
      ]
     },
     "execution_count": 20,
     "metadata": {},
     "output_type": "execute_result"
    }
   ],
   "source": [
    "model.evaluate(\n",
    "    x=X_test,\n",
    "    y=y_test,\n",
    "    batch_size=16,\n",
    ")"
   ]
  },
  {
   "cell_type": "markdown",
   "metadata": {},
   "source": [
    "And we can verify the MSE ourselves:"
   ]
  },
  {
   "cell_type": "code",
   "execution_count": 21,
   "metadata": {},
   "outputs": [
    {
     "name": "stdout",
     "output_type": "stream",
     "text": [
      "771/771 [==============================] - 1s 779us/step\n",
      "MSE: 3.0732131331264596\n"
     ]
    }
   ],
   "source": [
    "predictions = model.predict(X_test)\n",
    "errors = np.array(predictions - y_test)\n",
    "squared_errors = errors**2\n",
    "mean_squared_error = squared_errors.mean()\n",
    "\n",
    "print(f'MSE: {mean_squared_error}')"
   ]
  },
  {
   "cell_type": "markdown",
   "metadata": {},
   "source": [
    "Finally so we can compare to last week, lets do $R^2$:"
   ]
  },
  {
   "cell_type": "code",
   "execution_count": 22,
   "metadata": {},
   "outputs": [
    {
     "name": "stdout",
     "output_type": "stream",
     "text": [
      "Model R^2: 0.9872\n"
     ]
    }
   ],
   "source": [
    "tot_sum_squares = (np.array(y_test - y_test.mean())**2).sum()\n",
    "r2 = 1 - (squared_errors.sum() / tot_sum_squares)\n",
    "print(f'Model R^2: {r2:.4f}')"
   ]
  }
 ],
 "metadata": {
  "kernelspec": {
   "display_name": "Python 3.10.6 ('venv': venv)",
   "language": "python",
   "name": "python3"
  },
  "language_info": {
   "codemirror_mode": {
    "name": "ipython",
    "version": 3
   },
   "file_extension": ".py",
   "mimetype": "text/x-python",
   "name": "python",
   "nbconvert_exporter": "python",
   "pygments_lexer": "ipython3",
   "version": "3.10.6"
  },
  "orig_nbformat": 4,
  "vscode": {
   "interpreter": {
    "hash": "e4eac5b624265b0dd624b26c327755732c11ef00677b0cfd1e877c012ea4a443"
   }
  }
 },
 "nbformat": 4,
 "nbformat_minor": 2
}
